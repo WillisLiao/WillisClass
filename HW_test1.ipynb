{
 "cells": [
  {
   "cell_type": "markdown",
   "id": "e0272fdd",
   "metadata": {
    "tags": []
   },
   "source": [
    "### HW: test 1"
   ]
  },
  {
   "cell_type": "code",
   "execution_count": 1,
   "id": "eddb9ff7",
   "metadata": {},
   "outputs": [],
   "source": [
    "import csv\n",
    "import numpy as np\n",
    "import matplotlib.pyplot as plt\n",
    "import pandas as pd\n"
   ]
  },
  {
   "cell_type": "code",
   "execution_count": 2,
   "id": "9c3425a5",
   "metadata": {},
   "outputs": [],
   "source": [
    "df = pd.read_csv('cbb21.csv')\n",
    "df1 = pd.DataFrame(df, columns = [\"EFG_D\"]) # 指定欄標籤名稱\n",
    "row_count = df1.shape[0]\n",
    "a = df1.query(\"EFG_D > 40 and EFG_D <= 44\").shape[0]\n",
    "b = df1.query(\"EFG_D > 44 and EFG_D <= 48\").shape[0]\n",
    "c = df1.query(\"EFG_D > 48 and EFG_D <= 52\").shape[0]\n",
    "d = df1.query(\"EFG_D > 52 and EFG_D <= 56\").shape[0]\n",
    "e = df1.query(\"EFG_D > 56 and EFG_D <= 60\").shape[0]\n",
    "f = df1.query(\"EFG_D > 60 \").shape[0]"
   ]
  },
  {
   "cell_type": "code",
   "execution_count": 3,
   "id": "18eff46a",
   "metadata": {},
   "outputs": [
    {
     "data": {
      "image/png": "[encoded data removed]",
      "text/plain": [
       "<Figure size 432x288 with 1 Axes>"
      ]
     },
     "metadata": {
      "needs_background": "light"
     },
     "output_type": "display_data"
    }
   ],
   "source": [
    "# Probability Mass Function & # Cumulative Distribution Functions\n",
    "s = 0.8\n",
    "\n",
    "x1 = [40-s, 44-s, 48-s, 52-s, 56-s, 60-s]\n",
    "x2 = [40, 44, 48, 52, 56, 60]\n",
    "EFG_prob = [a/row_count, b/row_count, c/row_count, d/row_count, e/row_count, f/row_count ]\n",
    "EFG_prob_CDF = [a/row_count, (a+b)/row_count, (a+b+c)/row_count, (a+b+c+d)/row_count, (a+b+c+d+e)/row_count, (a+b+c+d+e+f)/row_count ]\n",
    "#plt.xlim(40, 60)\n",
    "#plt.ylim(0, 1)\n",
    "plt.xticks(x1, [\"40~44\", \"44~48\", \"48~52\", \"52~56\", \"56~60\", \">60\"])\n",
    "plt.xlabel(\"EFG range\")\n",
    "plt.ylabel(\"probability\")\n",
    "\n",
    "plt.bar(x1, EFG_prob, 0.8)\n",
    "plt.bar(x2, EFG_prob_CDF, 0.8)\n",
    "plt.legend([\"PMF\", \"CDF\"])\n",
    "plt.show()\n"
   ]
  }
 ],
 "metadata": {
  "kernelspec": {
   "display_name": "Python 3 (ipykernel)",
   "language": "python",
   "name": "python3"
  },
  "language_info": {
   "codemirror_mode": {
    "name": "ipython",
    "version": 3
   },
   "file_extension": ".py",
   "mimetype": "text/x-python",
   "name": "python",
   "nbconvert_exporter": "python",
   "pygments_lexer": "ipython3",
   "version": "3.9.7"
  }
 },
 "nbformat": 4,
 "nbformat_minor": 5
}
