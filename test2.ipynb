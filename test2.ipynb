{
 "cells": [
  {
   "cell_type": "code",
   "execution_count": 17,
   "id": "7c0ec640-3f2a-4f94-8b10-ba500ee85087",
   "metadata": {},
   "outputs": [],
   "source": [
    "import csv\n",
    "import math\n",
    "\n",
    "import numpy as np\n",
    "import matplotlib.pyplot as plt\n",
    "\n",
    "import pandas as pd\n"
   ]
  },
  {
   "cell_type": "code",
   "execution_count": 18,
   "id": "e7fa153b-c341-40a5-844e-45ecd5c50836",
   "metadata": {},
   "outputs": [],
   "source": [
    "df = pd.read_csv('cbb21.csv')\n",
    "df1 = pd.DataFrame(df, columns = [\"EFG_D\"]) # 指定欄標籤名稱\n",
    "row_count = df1.shape[0]\n",
    "a = df1.query(\"EFG_D > 40 and EFG_D <= 44\").shape[0]\n",
    "b = df1.query(\"EFG_D > 44 and EFG_D <= 48\").shape[0]\n",
    "c = df1.query(\"EFG_D > 48 and EFG_D <= 52\").shape[0]\n",
    "d = df1.query(\"EFG_D > 52 and EFG_D <= 56\").shape[0]\n",
    "e = df1.query(\"EFG_D > 56 and EFG_D <= 60\").shape[0]\n",
    "f = df1.query(\"EFG_D > 60 \").shape[0]"
   ]
  },
  {
   "cell_type": "code",
   "execution_count": 19,
   "id": "dcb8e448-9bb3-4355-af91-ea05274c4bdd",
   "metadata": {},
   "outputs": [
    {
     "name": "stdout",
     "output_type": "stream",
     "text": [
      "       x       PMF       CDF\n",
      "0  40~44  0.011527  0.011527\n",
      "1  44~48  0.230548  0.242075\n",
      "2  48~52  0.498559  0.740634\n",
      "3  52~56  0.239193  0.979827\n",
      "4  56~60  0.017291  0.997118\n",
      "5    >60  0.002882  1.000000\n"
     ]
    },
    {
     "data": {
      "text/plain": [
       "<AxesSubplot:title={'center':'Grouped Bar Graph with dataframe'}, xlabel='x'>"
      ]
     },
     "execution_count": 19,
     "metadata": {},
     "output_type": "execute_result"
    },
    {
     "data": {
      "image/png": "[encoded data removed]",
      "text/plain": [
       "<Figure size 432x288 with 1 Axes>"
      ]
     },
     "metadata": {
      "needs_background": "light"
     },
     "output_type": "display_data"
    }
   ],
   "source": [
    "# create data\n",
    "df = pd.DataFrame([['40~44', a/row_count, a/row_count], ['44~48', b/row_count, (a+b)/row_count], ['48~52', c/row_count, (a+b+c)/row_count],\n",
    "                   ['52~56', d/row_count, (a+b+c+d)/row_count], ['56~60', e/row_count,(a+b+c+d+e)/row_count ], ['>60',f/row_count,(a+b+c+d+e+f)/row_count ]],\n",
    "                  columns=['x', 'PMF', 'CDF'])\n",
    "# view data\n",
    "print(df)\n",
    "  \n",
    "# plot grouped bar chart\n",
    "df.plot(x='x',\n",
    "        kind='bar',\n",
    "        stacked=False,\n",
    "        title='Grouped Bar Graph with dataframe')"
   ]
  }
 ],
 "metadata": {
  "kernelspec": {
   "display_name": "Python 3 (ipykernel)",
   "language": "python",
   "name": "python3"
  },
  "language_info": {
   "codemirror_mode": {
    "name": "ipython",
    "version": 3
   },
   "file_extension": ".py",
   "mimetype": "text/x-python",
   "name": "python",
   "nbconvert_exporter": "python",
   "pygments_lexer": "ipython3",
   "version": "3.9.7"
  }
 },
 "nbformat": 4,
 "nbformat_minor": 5
}
