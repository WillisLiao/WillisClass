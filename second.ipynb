{
 "cells": [
  {
   "cell_type": "code",
   "execution_count": 11,
   "id": "aa69b72f-f637-40a6-a8f1-14827c4a9159",
   "metadata": {},
   "outputs": [],
   "source": [
    "import csv\n",
    "import math\n",
    "\n",
    "import numpy as np\n",
    "import matplotlib.pyplot as plt\n",
    "\n",
    "import pandas as pd\n"
   ]
  },
  {
   "cell_type": "code",
   "execution_count": 12,
   "id": "1f214a7f-ab54-4024-b632-4371e4a152da",
   "metadata": {},
   "outputs": [],
   "source": [
    "df = pd.read_csv('cbb21.csv')\n",
    "df1 = pd.DataFrame(df, columns = [\"EFG_D\"]) # 指定欄標籤名稱\n",
    "row_count = df1.shape[0]\n",
    "a = df1.query(\"EFG_D > 40 and EFG_D <= 44\").shape[0]\n",
    "b = df1.query(\"EFG_D > 44 and EFG_D <= 48\").shape[0]\n",
    "c = df1.query(\"EFG_D > 48 and EFG_D <= 52\").shape[0]\n",
    "d = df1.query(\"EFG_D > 52 and EFG_D <= 56\").shape[0]\n",
    "e = df1.query(\"EFG_D > 56 and EFG_D <= 60\").shape[0]\n",
    "f = df1.query(\"EFG_D > 60 \").shape[0]"
   ]
  },
  {
   "cell_type": "code",
   "execution_count": 13,
   "id": "da716e83-47b9-4970-b872-3f18f97f4d3b",
   "metadata": {},
   "outputs": [
    {
     "data": {
      "image/png": "[encoded data removed]",
      "text/plain": [
       "<Figure size 432x288 with 1 Axes>"
      ]
     },
     "metadata": {
      "needs_background": "light"
     },
     "output_type": "display_data"
    }
   ],
   "source": [
    "# CDFk\n",
    "x = [\"40~44\", \"44~48\", \"48~52\", \"52~56\", \"56~60\", \">60\"]\n",
    "EFG_probCDF = [a/row_count, (a+b)/row_count, (a+b+c)/row_count, (a+b+c+d)/row_count, (a+b+c+d+e)/row_count, (a+b+c+d+e+f)/row_count ]\n",
    "\n",
    "plt.xlim(0, 6)\n",
    "plt.ylim(0, 1)\n",
    "plt.xlabel(\"x\")\n",
    "plt.ylabel(\"probability\")\n",
    "plt.bar(x, EFG_prob)\n",
    "plt.show()"
   ]
  },
  {
   "cell_type": "code",
   "execution_count": null,
   "id": "7d455bb3-47f9-4b37-befa-55825b54796c",
   "metadata": {},
   "outputs": [],
   "source": []
  },
  {
   "cell_type": "code",
   "execution_count": null,
   "id": "41583e02-2315-4f50-a21b-190d8e3b6d57",
   "metadata": {},
   "outputs": [],
   "source": []
  }
 ],
 "metadata": {
  "kernelspec": {
   "display_name": "Python 3 (ipykernel)",
   "language": "python",
   "name": "python3"
  },
  "language_info": {
   "codemirror_mode": {
    "name": "ipython",
    "version": 3
   },
   "file_extension": ".py",
   "mimetype": "text/x-python",
   "name": "python",
   "nbconvert_exporter": "python",
   "pygments_lexer": "ipython3",
   "version": "3.9.7"
  }
 },
 "nbformat": 4,
 "nbformat_minor": 5
}
